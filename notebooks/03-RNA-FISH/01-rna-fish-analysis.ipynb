{
 "cells": [
  {
   "cell_type": "code",
   "execution_count": 1,
   "metadata": {},
   "outputs": [],
   "source": [
    "import glob\n",
    "import os\n",
    "\n",
    "import pandas as pd\n",
    "import numpy as np\n",
    "from scipy import stats\n",
    "from matplotlib import pyplot as plt\n",
    "%matplotlib inline\n",
    "\n",
    "from oudelaar_tiled_capture_2019 import config"
   ]
  },
  {
   "cell_type": "code",
   "execution_count": 3,
   "metadata": {},
   "outputs": [],
   "source": [
    "all_expts = pd.read_csv(config.in_data_raw('rna-fish/rna-fish-scoring.csv'))"
   ]
  },
  {
   "cell_type": "code",
   "execution_count": 10,
   "metadata": {},
   "outputs": [
    {
     "data": {
      "text/html": [
       "<div>\n",
       "<style scoped>\n",
       "    .dataframe tbody tr th:only-of-type {\n",
       "        vertical-align: middle;\n",
       "    }\n",
       "\n",
       "    .dataframe tbody tr th {\n",
       "        vertical-align: top;\n",
       "    }\n",
       "\n",
       "    .dataframe thead th {\n",
       "        text-align: right;\n",
       "    }\n",
       "</style>\n",
       "<table border=\"1\" class=\"dataframe\">\n",
       "  <thead>\n",
       "    <tr style=\"text-align: right;\">\n",
       "      <th></th>\n",
       "      <th>shuffled_index</th>\n",
       "      <th>original_index</th>\n",
       "      <th>original_name</th>\n",
       "      <th>shuffled_name</th>\n",
       "      <th>expt_no</th>\n",
       "      <th>sample_type</th>\n",
       "      <th>Image_number</th>\n",
       "      <th>Total_cells</th>\n",
       "      <th>Positive_cells</th>\n",
       "      <th>Notes</th>\n",
       "    </tr>\n",
       "  </thead>\n",
       "  <tbody>\n",
       "    <tr>\n",
       "      <th>0</th>\n",
       "      <td>0</td>\n",
       "      <td>38</td>\n",
       "      <td>images/S0_CD71_low_01_27_R3D.dv</td>\n",
       "      <td>images/0.dv</td>\n",
       "      <td>10</td>\n",
       "      <td>S0_CD71_low</td>\n",
       "      <td>0</td>\n",
       "      <td>6</td>\n",
       "      <td>0</td>\n",
       "      <td>NaN</td>\n",
       "    </tr>\n",
       "    <tr>\n",
       "      <th>1</th>\n",
       "      <td>1</td>\n",
       "      <td>201</td>\n",
       "      <td>images/S1_01_23_R3D.dv</td>\n",
       "      <td>images/1.dv</td>\n",
       "      <td>10</td>\n",
       "      <td>S1</td>\n",
       "      <td>1</td>\n",
       "      <td>2</td>\n",
       "      <td>0</td>\n",
       "      <td>NaN</td>\n",
       "    </tr>\n",
       "    <tr>\n",
       "      <th>2</th>\n",
       "      <td>2</td>\n",
       "      <td>224</td>\n",
       "      <td>images/S1_20170531_exp008_collect_01_11_R3D.dv</td>\n",
       "      <td>images/2.dv</td>\n",
       "      <td>8</td>\n",
       "      <td>S1</td>\n",
       "      <td>2</td>\n",
       "      <td>2</td>\n",
       "      <td>0</td>\n",
       "      <td>NaN</td>\n",
       "    </tr>\n",
       "    <tr>\n",
       "      <th>3</th>\n",
       "      <td>3</td>\n",
       "      <td>116</td>\n",
       "      <td>images/S0_low_20170531_exp008_collect_01_40_R3...</td>\n",
       "      <td>images/3.dv</td>\n",
       "      <td>8</td>\n",
       "      <td>S0_CD71_low</td>\n",
       "      <td>3</td>\n",
       "      <td>1</td>\n",
       "      <td>0</td>\n",
       "      <td>NaN</td>\n",
       "    </tr>\n",
       "    <tr>\n",
       "      <th>4</th>\n",
       "      <td>4</td>\n",
       "      <td>267</td>\n",
       "      <td>images/ter119_nosec_control_01_04_R3D.dv</td>\n",
       "      <td>images/4.dv</td>\n",
       "      <td>10</td>\n",
       "      <td>No_primary</td>\n",
       "      <td>4</td>\n",
       "      <td>10</td>\n",
       "      <td>1</td>\n",
       "      <td>NaN</td>\n",
       "    </tr>\n",
       "  </tbody>\n",
       "</table>\n",
       "</div>"
      ],
      "text/plain": [
       "   shuffled_index  original_index  \\\n",
       "0               0              38   \n",
       "1               1             201   \n",
       "2               2             224   \n",
       "3               3             116   \n",
       "4               4             267   \n",
       "\n",
       "                                       original_name shuffled_name  expt_no  \\\n",
       "0                    images/S0_CD71_low_01_27_R3D.dv   images/0.dv       10   \n",
       "1                             images/S1_01_23_R3D.dv   images/1.dv       10   \n",
       "2     images/S1_20170531_exp008_collect_01_11_R3D.dv   images/2.dv        8   \n",
       "3  images/S0_low_20170531_exp008_collect_01_40_R3...   images/3.dv        8   \n",
       "4           images/ter119_nosec_control_01_04_R3D.dv   images/4.dv       10   \n",
       "\n",
       "   sample_type  Image_number  Total_cells  Positive_cells Notes  \n",
       "0  S0_CD71_low             0            6               0   NaN  \n",
       "1           S1             1            2               0   NaN  \n",
       "2           S1             2            2               0   NaN  \n",
       "3  S0_CD71_low             3            1               0   NaN  \n",
       "4   No_primary             4           10               1   NaN  "
      ]
     },
     "execution_count": 10,
     "metadata": {},
     "output_type": "execute_result"
    }
   ],
   "source": [
    "all_expts.head()"
   ]
  },
  {
   "cell_type": "code",
   "execution_count": 4,
   "metadata": {},
   "outputs": [],
   "source": [
    "agg_by_expt = all_expts.groupby(['expt_no', 'sample_type'])[['Total_cells', 'Positive_cells']].sum()"
   ]
  },
  {
   "cell_type": "code",
   "execution_count": 5,
   "metadata": {},
   "outputs": [],
   "source": [
    "agg_by_expt['percent_positive'] = 100 * agg_by_expt.Positive_cells / agg_by_expt.Total_cells"
   ]
  },
  {
   "cell_type": "code",
   "execution_count": 6,
   "metadata": {},
   "outputs": [],
   "source": [
    "agg_by_expt = agg_by_expt.reset_index()"
   ]
  },
  {
   "cell_type": "code",
   "execution_count": 7,
   "metadata": {},
   "outputs": [
    {
     "name": "stdout",
     "output_type": "stream",
     "text": [
      "Ttest_relResult(statistic=-4.809790931402929, pvalue=0.04061123884279761)\n",
      "Ttest_relResult(statistic=-21.20079024621823, pvalue=0.002217427886442946)\n"
     ]
    }
   ],
   "source": [
    "print(\n",
    "    stats.ttest_rel(\n",
    "        agg_by_expt.loc[agg_by_expt.sample_type == 'S0_CD71_low', 'percent_positive'],\n",
    "        agg_by_expt.loc[agg_by_expt.sample_type == 'S0_CD71_medium', 'percent_positive']))\n",
    "print(\n",
    "    stats.ttest_rel(\n",
    "        agg_by_expt.loc[agg_by_expt.sample_type == 'S0_CD71_low', 'percent_positive'],\n",
    "        agg_by_expt.loc[agg_by_expt.sample_type == 'S1', 'percent_positive']))"
   ]
  },
  {
   "cell_type": "code",
   "execution_count": 8,
   "metadata": {},
   "outputs": [],
   "source": [
    "agg_by_sample = agg_by_expt.groupby('sample_type')\n",
    "mean_by_sample = agg_by_sample.percent_positive.mean()\n",
    "std_by_sample = agg_by_sample.percent_positive.std()"
   ]
  },
  {
   "cell_type": "code",
   "execution_count": 9,
   "metadata": {},
   "outputs": [
    {
     "data": {
      "image/png": "[encoded data removed]",
      "text/plain": [
       "<Figure size 864x576 with 1 Axes>"
      ]
     },
     "metadata": {
      "needs_background": "light"
     },
     "output_type": "display_data"
    }
   ],
   "source": [
    "plt.figure(figsize=(12,8))\n",
    "\n",
    "plt.rcParams['font.size'] = 14\n",
    "\n",
    "plt.bar(range(6), mean_by_sample)\n",
    "plt.errorbar(range(6), mean_by_sample, std_by_sample, fmt='o', color='black')\n",
    "plt.xticks(range(6), mean_by_sample.index, rotation=57)\n",
    "\n",
    "plt.ylabel('Cells expressing alpha-globin (%)')\n",
    "plt.savefig('../../out/figures/FISH_results.eps')"
   ]
  },
  {
   "cell_type": "code",
   "execution_count": null,
   "metadata": {
    "collapsed": true
   },
   "outputs": [],
   "source": []
  }
 ],
 "metadata": {
  "kernelspec": {
   "display_name": "Python 3",
   "language": "python",
   "name": "python3"
  },
  "language_info": {
   "codemirror_mode": {
    "name": "ipython",
    "version": 3
   },
   "file_extension": ".py",
   "mimetype": "text/x-python",
   "name": "python",
   "nbconvert_exporter": "python",
   "pygments_lexer": "ipython3",
   "version": "3.5.2"
  }
 },
 "nbformat": 4,
 "nbformat_minor": 2
}
