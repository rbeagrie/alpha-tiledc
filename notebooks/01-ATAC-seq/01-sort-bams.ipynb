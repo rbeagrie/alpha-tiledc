{
 "cells": [
  {
   "cell_type": "code",
   "execution_count": 1,
   "metadata": {},
   "outputs": [],
   "source": [
    "import glob\n",
    "import os\n",
    "import re\n",
    "\n",
    "import pandas as pd\n",
    "%matplotlib inline\n",
    "from doit.tools import register_doit_as_IPython_magic\n",
    "register_doit_as_IPython_magic()\n",
    "\n",
    "from oudelaar_tiled_capture_2019 import config, doit_tasks\n",
    "\n",
    "doit_db = os.path.join(config.base_folder, '.doit.db')\n",
    "doit_opts = '--db-file {} --backend sqlite3'.format(doit_db)"
   ]
  },
  {
   "cell_type": "code",
   "execution_count": 2,
   "metadata": {},
   "outputs": [],
   "source": [
    "mm9_atac_bams = glob.glob(config.in_data_raw('atac/*/filtered.mm9.bam'))\n",
    "mm10_atac_bams = glob.glob(config.in_data_raw('atac/*/filtered.mm10.bam'))"
   ]
  },
  {
   "cell_type": "code",
   "execution_count": 3,
   "metadata": {},
   "outputs": [],
   "source": [
    "def bam_sample_name(bam_path):\n",
    "    build = bam_path.split('.')[-2]\n",
    "    sample = os.path.basename(os.path.dirname(bam_path))\n",
    "    return '{}_{}'.format(sample, build)"
   ]
  },
  {
   "cell_type": "code",
   "execution_count": 4,
   "metadata": {},
   "outputs": [],
   "source": [
    "mm9_sequenced_samples = pd.DataFrame({'path': mm9_atac_bams,\n",
    "              'sample_id': [bam_sample_name(bam) for bam in mm9_atac_bams]})\n",
    "\n",
    "mm10_sequenced_samples = pd.DataFrame({'path': mm10_atac_bams,\n",
    "              'sample_id': [bam_sample_name(bam) for bam in mm10_atac_bams]})"
   ]
  },
  {
   "cell_type": "code",
   "execution_count": 5,
   "metadata": {},
   "outputs": [],
   "source": [
    "input_bams = mm9_sequenced_samples.path.tolist() + mm10_sequenced_samples.path.tolist()"
   ]
  },
  {
   "cell_type": "code",
   "execution_count": 6,
   "metadata": {},
   "outputs": [],
   "source": [
    "task_sort = doit_tasks.sort_bams([{'bam':bam,\n",
    "                                   'name':bam_sample_name(bam)\n",
    "                                  } for bam in input_bams])\n",
    "\n",
    "task_index = doit_tasks.index_bams([{'bam':bam,\n",
    "                                     'name':bam_sample_name(bam)}\n",
    "                                    for bam in input_bams])"
   ]
  },
  {
   "cell_type": "code",
   "execution_count": 7,
   "metadata": {
    "scrolled": false
   },
   "outputs": [
    {
     "name": "stdout",
     "output_type": "stream",
     "text": [
      "-- sort bam:RBAT35_mm9\n",
      "-- sort bam:RBAT58_mm9\n",
      "-- sort bam:RBAT39_mm9\n",
      "-- sort bam:RBAT33_mm9\n",
      "-- sort bam:RBAT95_mm9\n",
      "-- sort bam:RBAT34_mm9\n",
      "-- sort bam:RBAT61_mm9\n",
      "-- sort bam:RBAT32_mm9\n",
      "-- sort bam:RBAT55_mm9\n",
      "-- sort bam:RBAT42_mm9\n",
      "-- sort bam:RBAT46_mm9\n",
      "-- sort bam:RBAT47_mm9\n",
      "-- sort bam:RBAT52_mm9\n",
      "-- sort bam:RBAT96_mm9\n",
      "-- sort bam:RBAT94_mm9\n",
      "-- sort bam:RBAT44_mm9\n",
      "-- sort bam:RBAT62_mm9\n",
      "-- sort bam:RBAT57_mm9\n",
      "-- sort bam:RBAT53_mm9\n",
      "-- sort bam:RBAT31_mm9\n",
      "-- sort bam:RBAT36_mm9\n",
      "-- sort bam:RBAT38_mm9\n",
      "-- sort bam:RBAT59_mm9\n",
      "-- sort bam:RBAT60_mm9\n",
      "-- sort bam:RBAT40_mm9\n",
      "-- sort bam:RBAT56_mm9\n",
      "-- sort bam:RBAT97_mm9\n",
      "-- sort bam:RBAT37_mm9\n",
      "-- sort bam:RBAT45_mm9\n",
      "-- sort bam:RBAT54_mm9\n",
      "-- sort bam:RBAT43_mm9\n",
      "-- sort bam:RBAT35_mm10\n",
      "-- sort bam:RBAT58_mm10\n",
      "-- sort bam:RBAT39_mm10\n",
      "-- sort bam:RBAT33_mm10\n",
      "-- sort bam:RBAT95_mm10\n",
      "-- sort bam:RBAT34_mm10\n",
      "-- sort bam:RBAT61_mm10\n",
      "-- sort bam:RBAT32_mm10\n",
      "-- sort bam:RBAT55_mm10\n",
      "-- sort bam:RBAT42_mm10\n",
      "-- sort bam:RBAT46_mm10\n",
      "-- sort bam:RBAT47_mm10\n",
      "-- sort bam:RBAT52_mm10\n",
      "-- sort bam:RBAT96_mm10\n",
      "-- sort bam:RBAT94_mm10\n",
      "-- sort bam:RBAT44_mm10\n",
      "-- sort bam:RBAT62_mm10\n",
      "-- sort bam:RBAT57_mm10\n",
      "-- sort bam:RBAT53_mm10\n",
      "-- sort bam:RBAT31_mm10\n",
      "-- sort bam:RBAT36_mm10\n",
      "-- sort bam:RBAT38_mm10\n",
      "-- sort bam:RBAT59_mm10\n",
      "-- sort bam:RBAT60_mm10\n",
      "-- sort bam:RBAT40_mm10\n",
      "-- sort bam:RBAT56_mm10\n",
      "-- sort bam:RBAT97_mm10\n",
      "-- sort bam:RBAT37_mm10\n",
      "-- sort bam:RBAT45_mm10\n",
      "-- sort bam:RBAT54_mm10\n",
      "-- sort bam:RBAT43_mm10\n",
      "-- index bam:RBAT35_mm9\n",
      "-- index bam:RBAT58_mm9\n",
      "-- index bam:RBAT39_mm9\n",
      "-- index bam:RBAT33_mm9\n",
      "-- index bam:RBAT95_mm9\n",
      "-- index bam:RBAT34_mm9\n",
      "-- index bam:RBAT61_mm9\n",
      "-- index bam:RBAT32_mm9\n",
      "-- index bam:RBAT55_mm9\n",
      "-- index bam:RBAT42_mm9\n",
      "-- index bam:RBAT46_mm9\n",
      "-- index bam:RBAT47_mm9\n",
      "-- index bam:RBAT52_mm9\n",
      "-- index bam:RBAT96_mm9\n",
      "-- index bam:RBAT94_mm9\n",
      "-- index bam:RBAT44_mm9\n",
      "-- index bam:RBAT62_mm9\n",
      "-- index bam:RBAT57_mm9\n",
      "-- index bam:RBAT53_mm9\n",
      "-- index bam:RBAT31_mm9\n",
      "-- index bam:RBAT36_mm9\n",
      "-- index bam:RBAT38_mm9\n",
      "-- index bam:RBAT59_mm9\n",
      "-- index bam:RBAT60_mm9\n",
      "-- index bam:RBAT40_mm9\n",
      "-- index bam:RBAT56_mm9\n",
      "-- index bam:RBAT97_mm9\n",
      "-- index bam:RBAT37_mm9\n",
      "-- index bam:RBAT45_mm9\n",
      "-- index bam:RBAT54_mm9\n",
      "-- index bam:RBAT43_mm9\n",
      "-- index bam:RBAT35_mm10\n",
      "-- index bam:RBAT58_mm10\n",
      "-- index bam:RBAT39_mm10\n",
      "-- index bam:RBAT33_mm10\n",
      "-- index bam:RBAT95_mm10\n",
      "-- index bam:RBAT34_mm10\n",
      "-- index bam:RBAT61_mm10\n",
      "-- index bam:RBAT32_mm10\n",
      "-- index bam:RBAT55_mm10\n",
      "-- index bam:RBAT42_mm10\n",
      "-- index bam:RBAT46_mm10\n",
      "-- index bam:RBAT47_mm10\n",
      "-- index bam:RBAT52_mm10\n",
      "-- index bam:RBAT96_mm10\n",
      "-- index bam:RBAT94_mm10\n",
      "-- index bam:RBAT44_mm10\n",
      "-- index bam:RBAT62_mm10\n",
      "-- index bam:RBAT57_mm10\n",
      "-- index bam:RBAT53_mm10\n",
      "-- index bam:RBAT31_mm10\n",
      "-- index bam:RBAT36_mm10\n",
      "-- index bam:RBAT38_mm10\n",
      "-- index bam:RBAT59_mm10\n",
      "-- index bam:RBAT60_mm10\n",
      "-- index bam:RBAT40_mm10\n",
      "-- index bam:RBAT56_mm10\n",
      "-- index bam:RBAT97_mm10\n",
      "-- index bam:RBAT37_mm10\n",
      "-- index bam:RBAT45_mm10\n",
      "-- index bam:RBAT54_mm10\n",
      "-- index bam:RBAT43_mm10\n"
     ]
    }
   ],
   "source": [
    "%doit -n 10 {doit_opts}"
   ]
  },
  {
   "cell_type": "code",
   "execution_count": null,
   "metadata": {},
   "outputs": [],
   "source": []
  }
 ],
 "metadata": {
  "kernelspec": {
   "display_name": "Python 3",
   "language": "python",
   "name": "python3"
  },
  "language_info": {
   "codemirror_mode": {
    "name": "ipython",
    "version": 3
   },
   "file_extension": ".py",
   "mimetype": "text/x-python",
   "name": "python",
   "nbconvert_exporter": "python",
   "pygments_lexer": "ipython3",
   "version": "3.5.2"
  }
 },
 "nbformat": 4,
 "nbformat_minor": 2
}
