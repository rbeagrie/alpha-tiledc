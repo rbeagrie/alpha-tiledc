{
 "cells": [
  {
   "cell_type": "code",
   "execution_count": 1,
   "metadata": {},
   "outputs": [],
   "source": [
    "import pandas as pd\n",
    "import numpy as np\n",
    "\n",
    "from oudelaar_tiled_capture_2019 import config"
   ]
  },
  {
   "cell_type": "code",
   "execution_count": 2,
   "metadata": {},
   "outputs": [],
   "source": [
    "exp_matrix = pd.read_csv(\n",
    "    config.in_data_processed('cite-seq_mean_tpm_by_popn.csv'), index_col=0)"
   ]
  },
  {
   "cell_type": "code",
   "execution_count": 4,
   "metadata": {},
   "outputs": [],
   "source": [
    "!grep -e \"\tgene\t\" ../../data/raw/annotation/genes.gtf | \\\n",
    " awk '{ print $1\"\\t\"$4\"\\t\"$5\"\\t\"$14\"\\t999\\t\"$7\"\\t\"$10 }' | tr -d '\";' > \\\n",
    " ../../data/intermediate/hub/cite-seq/genes.bed"
   ]
  },
  {
   "cell_type": "code",
   "execution_count": 5,
   "metadata": {},
   "outputs": [],
   "source": [
    "gene_locs = pd.read_csv('../../data/intermediate/hub/cite-seq/genes.bed',\n",
    "            sep='\\t', names=['chrom', 'start', 'stop', 'gene_name',\n",
    "                             'score', 'strand', 'gene_id'])"
   ]
  },
  {
   "cell_type": "code",
   "execution_count": 6,
   "metadata": {},
   "outputs": [],
   "source": [
    "num_genes = gene_locs.gene_name.value_counts()\n",
    "\n",
    "unique_genes = num_genes[num_genes == 1].index.tolist()"
   ]
  },
  {
   "cell_type": "code",
   "execution_count": 7,
   "metadata": {},
   "outputs": [],
   "source": [
    "scrna_genes = exp_matrix.index.tolist()"
   ]
  },
  {
   "cell_type": "code",
   "execution_count": 8,
   "metadata": {},
   "outputs": [],
   "source": [
    "common_genes = set(scrna_genes).intersection(set(unique_genes))"
   ]
  },
  {
   "cell_type": "code",
   "execution_count": 10,
   "metadata": {},
   "outputs": [],
   "source": [
    "random_chr_genes = gene_locs.loc[np.logical_not(\n",
    "                        gene_locs.chrom.isin(\n",
    "                            ['chr{}'.format(c) \n",
    "                             for c in list(range(1,20)) + ['X', 'Y', 'M']])),\n",
    "                                 'gene_name'].tolist()"
   ]
  },
  {
   "cell_type": "code",
   "execution_count": 11,
   "metadata": {},
   "outputs": [],
   "source": [
    "common_genes = list(common_genes - set(random_chr_genes))"
   ]
  },
  {
   "cell_type": "code",
   "execution_count": 13,
   "metadata": {},
   "outputs": [],
   "source": [
    "exp_matrix.loc[common_genes, :].reset_index().to_csv(\n",
    "    config.in_data_intermediate('hub/cite-seq/avg_counts.tsv'),\n",
    "    sep='\\t', index=False)"
   ]
  },
  {
   "cell_type": "code",
   "execution_count": 14,
   "metadata": {},
   "outputs": [],
   "source": [
    "gene_locs[gene_locs.gene_name.isin(common_genes)].to_csv(\n",
    "    config.in_data_intermediate('hub/cite-seq/gene_locs.bed'),\n",
    "    sep='\\t', index=False, header=False)"
   ]
  },
  {
   "cell_type": "code",
   "execution_count": 15,
   "metadata": {},
   "outputs": [
    {
     "data": {
      "text/plain": [
       "'s0-low s0-med s1 s2 s3 s4/s5'"
      ]
     },
     "execution_count": 15,
     "metadata": {},
     "output_type": "execute_result"
    }
   ],
   "source": [
    "' '.join(exp_matrix.columns.tolist())"
   ]
  },
  {
   "cell_type": "code",
   "execution_count": 16,
   "metadata": {},
   "outputs": [],
   "source": [
    "pd.DataFrame({'cluster': exp_matrix.columns.tolist(),\n",
    "              'population': exp_matrix.columns.tolist()}).to_csv(\n",
    "    config.in_data_intermediate('hub/cite-seq/sample_details.tsv'),\n",
    "    sep='\\t', index=False, header=False)"
   ]
  },
  {
   "cell_type": "code",
   "execution_count": 17,
   "metadata": {},
   "outputs": [
    {
     "name": "stderr",
     "output_type": "stream",
     "text": [
      "join: file 1 is not in sorted order\n",
      "join: file 2 is not in sorted order\n"
     ]
    }
   ],
   "source": [
    "%%bash\n",
    "\n",
    "module rm ucsctools\n",
    "module load ucsctools/373\n",
    "\n",
    "expMatrixToBarchartBed ../../data/intermediate/hub/cite-seq/sample_details.tsv \\\n",
    " ../../data/intermediate/hub/cite-seq/avg_counts.tsv \\\n",
    " ../../data/intermediate/hub/cite-seq/gene_locs.bed \\\n",
    " ../../data/intermediate/hub/cite-seq/cite-seq_barchart.bed\n",
    " \n",
    "sort -k1,1 -k2,2n ../../data/intermediate/hub/cite-seq/cite-seq_barchart.bed > \\\n",
    " ../../data/intermediate/hub/cite-seq/cite-seq_barchart.sorted.bed\n",
    " "
   ]
  },
  {
   "cell_type": "code",
   "execution_count": 18,
   "metadata": {},
   "outputs": [],
   "source": [
    "output_barchart = pd.read_csv(\n",
    "    config.in_data_intermediate('hub/cite-seq/cite-seq_barchart.sorted.bed')\n",
    "    , sep='\\t')"
   ]
  },
  {
   "cell_type": "code",
   "execution_count": 26,
   "metadata": {},
   "outputs": [
    {
     "name": "stdout",
     "output_type": "stream",
     "text": [
      "pass1 - making usageList (22 chroms): 10 millis\n",
      "pass2 - checking and writing primary data (14873 records, 11 fields): 105 millis\n"
     ]
    }
   ],
   "source": [
    "!bedToBigBed -as=../../data/raw/barChartBed.as \\\n",
    " -type=bed6+5 ../../data/intermediate/hub/cite-seq/cite-seq_barchart.sorted.bed \\\n",
    " ../../data/raw/annotation/mm10.full.chrom.sizes \\\n",
    " ../../data/processed/hub/bigbeds/citeseq_barchart.bb"
   ]
  },
  {
   "cell_type": "code",
   "execution_count": null,
   "metadata": {},
   "outputs": [],
   "source": []
  }
 ],
 "metadata": {
  "kernelspec": {
   "display_name": "Python 3",
   "language": "python",
   "name": "python3"
  },
  "language_info": {
   "codemirror_mode": {
    "name": "ipython",
    "version": 3
   },
   "file_extension": ".py",
   "mimetype": "text/x-python",
   "name": "python",
   "nbconvert_exporter": "python",
   "pygments_lexer": "ipython3",
   "version": "3.5.2"
  }
 },
 "nbformat": 4,
 "nbformat_minor": 2
}
